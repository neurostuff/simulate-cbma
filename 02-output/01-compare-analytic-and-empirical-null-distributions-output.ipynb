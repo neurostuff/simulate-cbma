{
 "cells": [
  {
   "cell_type": "code",
   "execution_count": 1,
   "id": "expressed-banana",
   "metadata": {
    "execution": {
     "iopub.execute_input": "2021-04-02T06:25:30.391360Z",
     "iopub.status.busy": "2021-04-02T06:25:30.390872Z",
     "iopub.status.idle": "2021-04-02T06:25:33.780129Z",
     "shell.execute_reply": "2021-04-02T06:25:33.780559Z"
    },
    "papermill": {
     "duration": 3.409643,
     "end_time": "2021-04-02T06:25:33.780816",
     "exception": false,
     "start_time": "2021-04-02T06:25:30.371173",
     "status": "completed"
    },
    "tags": []
   },
   "outputs": [
    {
     "name": "stderr",
     "output_type": "stream",
     "text": [
      "ERROR:duecredit:Failed to import duecredit due to No module named 'duecredit'\n"
     ]
    }
   ],
   "source": [
    "from itertools import product\n",
    "from functools import partial\n",
    "import os\n",
    "import pickle\n",
    "\n",
    "import numpy as np\n",
    "import pandas as pd\n",
    "import seaborn as sns\n",
    "import matplotlib.pyplot as plt\n",
    "import matplotlib.patches as mpatches\n",
    "from joblib import Parallel, delayed\n",
    "import scipy\n",
    "\n",
    "from nimare.generate import create_coordinate_dataset\n",
    "from nimare.meta import ALE\n",
    "from nimare.meta import KDA, MKDADensity\n",
    "from nimare.meta import KDAKernel, ALEKernel, MKDAKernel\n",
    "from nimare.correct import FDRCorrector, FWECorrector"
   ]
  },
  {
   "cell_type": "code",
   "execution_count": 2,
   "id": "sporting-rendering",
   "metadata": {
    "execution": {
     "iopub.execute_input": "2021-04-02T06:25:33.809700Z",
     "iopub.status.busy": "2021-04-02T06:25:33.809229Z",
     "iopub.status.idle": "2021-04-02T06:25:33.811094Z",
     "shell.execute_reply": "2021-04-02T06:25:33.811463Z"
    },
    "papermill": {
     "duration": 0.017416,
     "end_time": "2021-04-02T06:25:33.811575",
     "exception": false,
     "start_time": "2021-04-02T06:25:33.794159",
     "status": "completed"
    },
    "tags": [
     "parameters"
    ]
   },
   "outputs": [],
   "source": [
    "N_DSET = 3\n",
    "N_JOBS = None\n",
    "N_ITERS = 100\n",
    "OVERWRITE_DSETS = True\n",
    "DSET_FILE = \"./intermediate_data/test_dsets.pkl\"\n",
    "DATA_DIR = \"./intermediate_data\""
   ]
  },
  {
   "cell_type": "code",
   "execution_count": 3,
   "id": "substantial-receipt",
   "metadata": {
    "execution": {
     "iopub.execute_input": "2021-04-02T06:25:33.838406Z",
     "iopub.status.busy": "2021-04-02T06:25:33.837939Z",
     "iopub.status.idle": "2021-04-02T06:25:33.839794Z",
     "shell.execute_reply": "2021-04-02T06:25:33.840153Z"
    },
    "papermill": {
     "duration": 0.016661,
     "end_time": "2021-04-02T06:25:33.840264",
     "exception": false,
     "start_time": "2021-04-02T06:25:33.823603",
     "status": "completed"
    },
    "tags": [
     "injected-parameters"
    ]
   },
   "outputs": [],
   "source": [
    "# Parameters\n",
    "DATA_DIR = \"/work/07723/jdk3232/lonestar/68e9fdfb-c16b-4563-a5c7-3d49e8fd3d26/analysis/01-code/intermediate_data\"\n",
    "DSET_FILE = \"/work/07723/jdk3232/lonestar/68e9fdfb-c16b-4563-a5c7-3d49e8fd3d26/analysis/01-code/intermediate_data/test_dsets.pkl\"\n",
    "OVERWRITE_DSETS = True\n",
    "N_DSET = 100\n",
    "N_ITERS = 10000\n",
    "N_JOBS = 48\n"
   ]
  },
  {
   "cell_type": "code",
   "execution_count": 4,
   "id": "direct-tsunami",
   "metadata": {
    "execution": {
     "iopub.execute_input": "2021-04-02T06:25:33.867283Z",
     "iopub.status.busy": "2021-04-02T06:25:33.866818Z",
     "iopub.status.idle": "2021-04-02T06:25:33.868713Z",
     "shell.execute_reply": "2021-04-02T06:25:33.869070Z"
    },
    "papermill": {
     "duration": 0.016958,
     "end_time": "2021-04-02T06:25:33.869177",
     "exception": false,
     "start_time": "2021-04-02T06:25:33.852219",
     "status": "completed"
    },
    "tags": []
   },
   "outputs": [],
   "source": [
    "if N_JOBS is None:\n",
    "    N_JOBS = os.cpu_count()"
   ]
  },
  {
   "cell_type": "code",
   "execution_count": 5,
   "id": "international-sacrifice",
   "metadata": {
    "execution": {
     "iopub.execute_input": "2021-04-02T06:25:33.897122Z",
     "iopub.status.busy": "2021-04-02T06:25:33.896660Z",
     "iopub.status.idle": "2021-04-02T06:25:33.898902Z",
     "shell.execute_reply": "2021-04-02T06:25:33.898521Z"
    },
    "papermill": {
     "duration": 0.017732,
     "end_time": "2021-04-02T06:25:33.898999",
     "exception": false,
     "start_time": "2021-04-02T06:25:33.881267",
     "status": "completed"
    },
    "tags": []
   },
   "outputs": [],
   "source": [
    "def create_dsets(n_dsets, **kwargs):\n",
    "    partial_ccd = partial(create_coordinate_dataset, **kwargs)\n",
    "    # just return the dset output since there are no signal foci\n",
    "    return [dset for foci, dset in Parallel(n_jobs=N_JOBS)(delayed(partial_ccd)(**{'seed': seed}) for seed in range(n_dsets))]"
   ]
  },
  {
   "cell_type": "code",
   "execution_count": 6,
   "id": "comparable-george",
   "metadata": {
    "execution": {
     "iopub.execute_input": "2021-04-02T06:25:33.927405Z",
     "iopub.status.busy": "2021-04-02T06:25:33.926919Z",
     "iopub.status.idle": "2021-04-02T06:25:33.930722Z",
     "shell.execute_reply": "2021-04-02T06:25:33.931084Z"
    },
    "papermill": {
     "duration": 0.019805,
     "end_time": "2021-04-02T06:25:33.931195",
     "exception": false,
     "start_time": "2021-04-02T06:25:33.911390",
     "status": "completed"
    },
    "tags": []
   },
   "outputs": [],
   "source": [
    "with open(os.path.join(DATA_DIR, 'peaks_distribution.pkl'), 'rb') as peaks_f:\n",
    "    peaks_per_exp_dist = pickle.load(peaks_f)\n",
    "\n",
    "with open(os.path.join(DATA_DIR, 'participants_distribution.pkl'), 'rb') as parts_f:\n",
    "    participants_per_exp_dist = pickle.load(parts_f)"
   ]
  },
  {
   "cell_type": "code",
   "execution_count": 7,
   "id": "floating-aging",
   "metadata": {
    "execution": {
     "iopub.execute_input": "2021-04-02T06:25:33.962028Z",
     "iopub.status.busy": "2021-04-02T06:25:33.961474Z",
     "iopub.status.idle": "2021-04-02T06:25:33.982715Z",
     "shell.execute_reply": "2021-04-02T06:25:33.982333Z"
    },
    "papermill": {
     "duration": 0.038727,
     "end_time": "2021-04-02T06:25:33.982811",
     "exception": false,
     "start_time": "2021-04-02T06:25:33.944084",
     "status": "completed"
    },
    "tags": []
   },
   "outputs": [],
   "source": [
    "peaks_per_exp_low_high = (int(peaks_per_exp_dist.ppf(0.05)), int(peaks_per_exp_dist.ppf(0.95)))\n",
    "part_per_exp_low_high = (int(participants_per_exp_dist.ppf(0.05)), int(participants_per_exp_dist.ppf(0.95)))\n",
    "num_of_exp_low_high = (10, 100)"
   ]
  },
  {
   "cell_type": "code",
   "execution_count": 8,
   "id": "invalid-fabric",
   "metadata": {
    "execution": {
     "iopub.execute_input": "2021-04-02T06:25:34.013136Z",
     "iopub.status.busy": "2021-04-02T06:25:34.012648Z",
     "iopub.status.idle": "2021-04-02T06:26:26.999037Z",
     "shell.execute_reply": "2021-04-02T06:26:26.999429Z"
    },
    "papermill": {
     "duration": 53.003804,
     "end_time": "2021-04-02T06:26:26.999605",
     "exception": false,
     "start_time": "2021-04-02T06:25:33.995801",
     "status": "completed"
    },
    "tags": []
   },
   "outputs": [],
   "source": [
    "if OVERWRITE_DSETS or not os.path.isfile(DSET_FILE):\n",
    "    dset_params = product(peaks_per_exp_low_high, part_per_exp_low_high, num_of_exp_low_high)\n",
    "    dset_dict = {}\n",
    "    for foci, participants, studies in dset_params:\n",
    "        key = f\"foci-{foci}_participants-{participants}_studies-{studies}\"\n",
    "        dset_dict[key] = create_dsets(N_DSET, foci=0, n_noise_foci=foci, sample_size=participants, n_studies=studies)\n",
    "    with open(DSET_FILE, \"wb\") as pkl_file:\n",
    "        pickle.dump(dset_dict, pkl_file)\n",
    "else:\n",
    "    with open(DSET_FILE, \"rb\") as pkl_file:\n",
    "        dset_dict = pickle.load(pkl_file)\n"
   ]
  },
  {
   "cell_type": "code",
   "execution_count": 9,
   "id": "sound-macro",
   "metadata": {
    "execution": {
     "iopub.execute_input": "2021-04-02T06:26:27.031964Z",
     "iopub.status.busy": "2021-04-02T06:26:27.031477Z",
     "iopub.status.idle": "2021-04-02T06:26:27.033376Z",
     "shell.execute_reply": "2021-04-02T06:26:27.033749Z"
    },
    "papermill": {
     "duration": 0.020969,
     "end_time": "2021-04-02T06:26:27.033862",
     "exception": false,
     "start_time": "2021-04-02T06:26:27.012893",
     "status": "completed"
    },
    "tags": []
   },
   "outputs": [],
   "source": [
    "# set up the meta analysis estimators\n",
    "metas = [\n",
    "    ('ale', ALE),\n",
    "    ('mkda', MKDADensity),\n",
    "    ('kda', KDA)\n",
    "]\n",
    "\n",
    "null_methods = [\n",
    "    {'null_method': 'analytic'},\n",
    "    {'null_method': 'empirical', 'n_cores': 1, 'n_iters': N_ITERS},\n",
    "]\n",
    "\n",
    "dset_examples = [(params, dsets[0]) for params, dsets in dset_dict.items()]\n",
    "fit_dset_args = list(product(metas, dset_examples, null_methods))\n",
    "\n",
    "def fit_dset(meta_tuple, dset_tuple, kwargs):\n",
    "    res = meta_tuple[1](**kwargs).fit(dset_tuple[1])\n",
    "    p_map = res.get_map(\"p\", return_type=\"array\")\n",
    "    fpr = (p_map < 0.05).sum() / p_map.shape[0]\n",
    "    return meta_tuple[0], dset_tuple[0], kwargs['null_method'], fpr, p_map\n"
   ]
  },
  {
   "cell_type": "code",
   "execution_count": 10,
   "id": "floral-preserve",
   "metadata": {
    "execution": {
     "iopub.execute_input": "2021-04-02T06:26:27.065301Z",
     "iopub.status.busy": "2021-04-02T06:26:27.064807Z",
     "iopub.status.idle": "2021-04-02T10:17:25.521043Z",
     "shell.execute_reply": "2021-04-02T10:17:25.521429Z"
    },
    "papermill": {
     "duration": 13858.474573,
     "end_time": "2021-04-02T10:17:25.521579",
     "exception": false,
     "start_time": "2021-04-02T06:26:27.047006",
     "status": "completed"
    },
    "tags": []
   },
   "outputs": [
    {
     "data": {
      "text/html": [
       "<div>\n",
       "<style scoped>\n",
       "    .dataframe tbody tr th:only-of-type {\n",
       "        vertical-align: middle;\n",
       "    }\n",
       "\n",
       "    .dataframe tbody tr th {\n",
       "        vertical-align: top;\n",
       "    }\n",
       "\n",
       "    .dataframe thead th {\n",
       "        text-align: right;\n",
       "    }\n",
       "</style>\n",
       "<table border=\"1\" class=\"dataframe\">\n",
       "  <thead>\n",
       "    <tr style=\"text-align: right;\">\n",
       "      <th></th>\n",
       "      <th>meta</th>\n",
       "      <th>dset</th>\n",
       "      <th>null_method</th>\n",
       "      <th>fpr</th>\n",
       "      <th>p_array</th>\n",
       "    </tr>\n",
       "  </thead>\n",
       "  <tbody>\n",
       "    <tr>\n",
       "      <th>0</th>\n",
       "      <td>ale</td>\n",
       "      <td>foci-2_participants-5_studies-10</td>\n",
       "      <td>analytic</td>\n",
       "      <td>0.051472</td>\n",
       "      <td>[1.0, 1.0, 1.0, 1.0, 1.0, 1.0, 1.0, 1.0, 1.0, ...</td>\n",
       "    </tr>\n",
       "    <tr>\n",
       "      <th>1</th>\n",
       "      <td>ale</td>\n",
       "      <td>foci-2_participants-5_studies-10</td>\n",
       "      <td>empirical</td>\n",
       "      <td>0.057123</td>\n",
       "      <td>[1.0, 1.0, 1.0, 1.0, 1.0, 1.0, 1.0, 1.0, 1.0, ...</td>\n",
       "    </tr>\n",
       "    <tr>\n",
       "      <th>2</th>\n",
       "      <td>ale</td>\n",
       "      <td>foci-2_participants-5_studies-100</td>\n",
       "      <td>analytic</td>\n",
       "      <td>0.054493</td>\n",
       "      <td>[1.0, 0.7947713859760551, 0.7947713859760551, ...</td>\n",
       "    </tr>\n",
       "    <tr>\n",
       "      <th>3</th>\n",
       "      <td>ale</td>\n",
       "      <td>foci-2_participants-5_studies-100</td>\n",
       "      <td>empirical</td>\n",
       "      <td>0.051713</td>\n",
       "      <td>[1.0, 0.8546864812455953, 0.8546864812455953, ...</td>\n",
       "    </tr>\n",
       "    <tr>\n",
       "      <th>4</th>\n",
       "      <td>ale</td>\n",
       "      <td>foci-2_participants-31_studies-10</td>\n",
       "      <td>analytic</td>\n",
       "      <td>0.051175</td>\n",
       "      <td>[1.0, 1.0, 1.0, 1.0, 1.0, 1.0, 1.0, 1.0, 1.0, ...</td>\n",
       "    </tr>\n",
       "  </tbody>\n",
       "</table>\n",
       "</div>"
      ],
      "text/plain": [
       "  meta                               dset null_method       fpr  \\\n",
       "0  ale   foci-2_participants-5_studies-10    analytic  0.051472   \n",
       "1  ale   foci-2_participants-5_studies-10   empirical  0.057123   \n",
       "2  ale  foci-2_participants-5_studies-100    analytic  0.054493   \n",
       "3  ale  foci-2_participants-5_studies-100   empirical  0.051713   \n",
       "4  ale  foci-2_participants-31_studies-10    analytic  0.051175   \n",
       "\n",
       "                                             p_array  \n",
       "0  [1.0, 1.0, 1.0, 1.0, 1.0, 1.0, 1.0, 1.0, 1.0, ...  \n",
       "1  [1.0, 1.0, 1.0, 1.0, 1.0, 1.0, 1.0, 1.0, 1.0, ...  \n",
       "2  [1.0, 0.7947713859760551, 0.7947713859760551, ...  \n",
       "3  [1.0, 0.8546864812455953, 0.8546864812455953, ...  \n",
       "4  [1.0, 1.0, 1.0, 1.0, 1.0, 1.0, 1.0, 1.0, 1.0, ...  "
      ]
     },
     "execution_count": 10,
     "metadata": {},
     "output_type": "execute_result"
    }
   ],
   "source": [
    "if not os.path.isfile(os.path.join(DATA_DIR, \"analytic_empirical_comparison_results.tsv\")) or OVERWRITE_DSETS:\n",
    "    estimator_results = Parallel(n_jobs=N_JOBS)(delayed(fit_dset)(*args) for args in fit_dset_args)\n",
    "\n",
    "    estimator_collector = {'meta': [], 'dset': [], 'null_method': [], \"fpr\": [], \"p_array\": []}\n",
    "    for res in estimator_results:\n",
    "        estimator_collector['meta'].append(res[0])\n",
    "        estimator_collector['dset'].append(res[1])\n",
    "        estimator_collector['null_method'].append(res[2])\n",
    "        estimator_collector['fpr'].append(res[3])\n",
    "        estimator_collector['p_array'].append(res[4])\n",
    "\n",
    "    estimator_df = pd.DataFrame(estimator_collector)\n",
    "    estimator_df.to_csv(os.path.join(DATA_DIR, \"analytic_empirical_comparison_results.tsv\"), sep='\\t', index=False)\n",
    "else:\n",
    "    estimator_df = pd.read_csv(os.path.join(DATA_DIR, \"analytic_empirical_comparison_results.tsv\"), sep='\\t')\n",
    "\n",
    "estimator_df.head()"
   ]
  },
  {
   "cell_type": "code",
   "execution_count": 11,
   "id": "protected-release",
   "metadata": {
    "execution": {
     "iopub.execute_input": "2021-04-02T10:17:25.554792Z",
     "iopub.status.busy": "2021-04-02T10:17:25.554311Z",
     "iopub.status.idle": "2021-04-02T10:17:25.606242Z",
     "shell.execute_reply": "2021-04-02T10:17:25.606617Z"
    },
    "papermill": {
     "duration": 0.070529,
     "end_time": "2021-04-02T10:17:25.606773",
     "exception": false,
     "start_time": "2021-04-02T10:17:25.536244",
     "status": "completed"
    },
    "tags": []
   },
   "outputs": [
    {
     "data": {
      "text/plain": [
       "array([0.99994434, 0.99861871, 0.99998895, 0.99859815, 0.99909058,\n",
       "       0.99884438, 0.99852784, 0.9998375 ])"
      ]
     },
     "execution_count": 11,
     "metadata": {},
     "output_type": "execute_result"
    }
   ],
   "source": [
    "ale_analytic = estimator_df.query(\"meta == 'ale' & null_method == 'analytic'\")['p_array'].values\n",
    "ale_empirical = estimator_df.query(\"meta == 'ale' & null_method == 'empirical'\")['p_array'].values\n",
    "ale_correlations = np.array([np.corrcoef(analytic, empirical)[0][1] for analytic, empirical in zip(ale_analytic, ale_empirical)])\n",
    "ale_correlations"
   ]
  },
  {
   "cell_type": "code",
   "execution_count": 12,
   "id": "residential-trader",
   "metadata": {
    "execution": {
     "iopub.execute_input": "2021-04-02T10:17:25.642208Z",
     "iopub.status.busy": "2021-04-02T10:17:25.641725Z",
     "iopub.status.idle": "2021-04-02T10:17:25.660831Z",
     "shell.execute_reply": "2021-04-02T10:17:25.661207Z"
    },
    "papermill": {
     "duration": 0.040796,
     "end_time": "2021-04-02T10:17:25.661361",
     "exception": false,
     "start_time": "2021-04-02T10:17:25.620565",
     "status": "completed"
    },
    "tags": []
   },
   "outputs": [
    {
     "data": {
      "text/plain": [
       "array([0.99999996, 0.99999865, 0.99999996, 0.99999837, 0.99999806,\n",
       "       0.99979275, 0.99999824, 0.99979265])"
      ]
     },
     "execution_count": 12,
     "metadata": {},
     "output_type": "execute_result"
    }
   ],
   "source": [
    "mkda_analytic = estimator_df.query(\"meta == 'mkda' & null_method == 'analytic'\")['p_array'].values\n",
    "mkda_empirical = estimator_df.query(\"meta == 'mkda' & null_method == 'empirical'\")['p_array'].values\n",
    "mkda_correlations = np.array([np.corrcoef(analytic, empirical)[0][1] for analytic, empirical in zip(mkda_analytic, mkda_empirical)])\n",
    "mkda_correlations"
   ]
  },
  {
   "cell_type": "code",
   "execution_count": 13,
   "id": "adopted-fundamentals",
   "metadata": {
    "execution": {
     "iopub.execute_input": "2021-04-02T10:17:25.697456Z",
     "iopub.status.busy": "2021-04-02T10:17:25.696984Z",
     "iopub.status.idle": "2021-04-02T10:17:25.715886Z",
     "shell.execute_reply": "2021-04-02T10:17:25.716262Z"
    },
    "papermill": {
     "duration": 0.040468,
     "end_time": "2021-04-02T10:17:25.716442",
     "exception": false,
     "start_time": "2021-04-02T10:17:25.675974",
     "status": "completed"
    },
    "tags": []
   },
   "outputs": [
    {
     "data": {
      "text/plain": [
       "array([0.99999995, 0.9999988 , 0.99999996, 0.9999986 , 0.99999986,\n",
       "       0.99978419, 0.99999979, 0.99978429])"
      ]
     },
     "execution_count": 13,
     "metadata": {},
     "output_type": "execute_result"
    }
   ],
   "source": [
    "kda_analytic = estimator_df.query(\"meta == 'kda' & null_method == 'analytic'\")['p_array'].values\n",
    "kda_empirical = estimator_df.query(\"meta == 'kda' & null_method == 'empirical'\")['p_array'].values\n",
    "kda_correlations = np.array([np.corrcoef(analytic, empirical)[0][1] for analytic, empirical in zip(kda_analytic, kda_empirical)])\n",
    "kda_correlations"
   ]
  },
  {
   "cell_type": "code",
   "execution_count": 14,
   "id": "naked-adobe",
   "metadata": {
    "execution": {
     "iopub.execute_input": "2021-04-02T10:17:25.790021Z",
     "iopub.status.busy": "2021-04-02T10:17:25.781502Z",
     "iopub.status.idle": "2021-04-02T10:17:26.017778Z",
     "shell.execute_reply": "2021-04-02T10:17:26.017375Z"
    },
    "papermill": {
     "duration": 0.285751,
     "end_time": "2021-04-02T10:17:26.017887",
     "exception": false,
     "start_time": "2021-04-02T10:17:25.732136",
     "status": "completed"
    },
    "tags": []
   },
   "outputs": [
    {
     "data": {
      "text/plain": [
       "Text(0.5, 1.0, 'False Positive Rates for Meta Analysis Estimators')"
      ]
     },
     "execution_count": 14,
     "metadata": {},
     "output_type": "execute_result"
    },
    {
     "data": {
      "image/png": "[encoded data removed]",
      "text/plain": [
       "<Figure size 432x288 with 1 Axes>"
      ]
     },
     "metadata": {
      "needs_background": "light"
     },
     "output_type": "display_data"
    }
   ],
   "source": [
    "fig = sns.stripplot(data=estimator_df, x='meta', hue='null_method', y='fpr')\n",
    "fig.set_title(\"False Positive Rates for Meta Analysis Estimators\")"
   ]
  },
  {
   "cell_type": "code",
   "execution_count": 15,
   "id": "organizational-program",
   "metadata": {
    "execution": {
     "iopub.execute_input": "2021-04-02T10:17:26.054920Z",
     "iopub.status.busy": "2021-04-02T10:17:26.054437Z",
     "iopub.status.idle": "2021-04-02T10:17:26.342518Z",
     "shell.execute_reply": "2021-04-02T10:17:26.342929Z"
    },
    "papermill": {
     "duration": 0.309504,
     "end_time": "2021-04-02T10:17:26.343079",
     "exception": false,
     "start_time": "2021-04-02T10:17:26.033575",
     "status": "completed"
    },
    "tags": []
   },
   "outputs": [],
   "source": [
    "long_df = estimator_df.query(\"dset == 'foci-24_participants-5_studies-10'\").explode('p_array')"
   ]
  },
  {
   "cell_type": "code",
   "execution_count": 16,
   "id": "comfortable-province",
   "metadata": {
    "execution": {
     "iopub.execute_input": "2021-04-02T10:17:26.398402Z",
     "iopub.status.busy": "2021-04-02T10:17:26.389049Z",
     "iopub.status.idle": "2021-04-02T10:17:27.371302Z",
     "shell.execute_reply": "2021-04-02T10:17:27.371709Z"
    },
    "papermill": {
     "duration": 1.011671,
     "end_time": "2021-04-02T10:17:27.371861",
     "exception": false,
     "start_time": "2021-04-02T10:17:26.360190",
     "status": "completed"
    },
    "tags": []
   },
   "outputs": [
    {
     "data": {
      "image/png": "[encoded data removed]",
      "text/plain": [
       "<Figure size 432x288 with 1 Axes>"
      ]
     },
     "metadata": {
      "needs_background": "light"
     },
     "output_type": "display_data"
    }
   ],
   "source": [
    "fig, ax = plt.subplots()\n",
    "sns.histplot(\n",
    "    data=long_df.query(\"meta == 'ale' & null_method == 'analytic'\"),\n",
    "    x=\"p_array\",\n",
    "    bins=20,\n",
    "    ax=ax,\n",
    "    color=sns.color_palette(\"muted\")[0],\n",
    "    stat=\"probability\",\n",
    ")\n",
    "sns.histplot(\n",
    "    data=long_df.query(\"meta == 'ale' and null_method == 'empirical'\"),\n",
    "    x=\"p_array\",\n",
    "    bins=20,\n",
    "    ax=ax,\n",
    "    color=sns.color_palette(\"muted\")[1],\n",
    "    stat=\"probability\",\n",
    ")\n",
    "ax.legend(\n",
    "    handles=[\n",
    "        mpatches.Patch(color=sns.color_palette(\"muted\")[0], label=\"analytic\"),\n",
    "        mpatches.Patch(color=sns.color_palette(\"muted\")[1], label=\"empirical\"),\n",
    "    ]\n",
    ");\n",
    "ax.set_title(\"ALE p-value distributions\");"
   ]
  },
  {
   "cell_type": "code",
   "execution_count": 17,
   "id": "threaded-mitchell",
   "metadata": {
    "execution": {
     "iopub.execute_input": "2021-04-02T10:17:27.427388Z",
     "iopub.status.busy": "2021-04-02T10:17:27.426902Z",
     "iopub.status.idle": "2021-04-02T10:17:28.388716Z",
     "shell.execute_reply": "2021-04-02T10:17:28.389124Z"
    },
    "papermill": {
     "duration": 1.000542,
     "end_time": "2021-04-02T10:17:28.389275",
     "exception": false,
     "start_time": "2021-04-02T10:17:27.388733",
     "status": "completed"
    },
    "tags": []
   },
   "outputs": [
    {
     "data": {
      "image/png": "[encoded data removed]",
      "text/plain": [
       "<Figure size 432x288 with 1 Axes>"
      ]
     },
     "metadata": {
      "needs_background": "light"
     },
     "output_type": "display_data"
    }
   ],
   "source": [
    "fig, ax = plt.subplots()\n",
    "sns.histplot(\n",
    "    data=long_df.query(\"meta == 'mkda' & null_method == 'analytic'\"),\n",
    "    x=\"p_array\",\n",
    "    bins=20,\n",
    "    ax=ax,\n",
    "    color=sns.color_palette(\"muted\")[0],\n",
    "    stat=\"probability\",\n",
    ")\n",
    "sns.histplot(\n",
    "    data=long_df.query(\"meta == 'mkda' and null_method == 'empirical'\"),\n",
    "    x=\"p_array\",\n",
    "    bins=20,\n",
    "    ax=ax,\n",
    "    color=sns.color_palette(\"muted\")[1],\n",
    "    stat=\"probability\",\n",
    ")\n",
    "ax.legend(\n",
    "    handles=[\n",
    "        mpatches.Patch(color=sns.color_palette(\"muted\")[0], label=\"analytic\"),\n",
    "        mpatches.Patch(color=sns.color_palette(\"muted\")[1], label=\"empirical\"),\n",
    "    ]\n",
    ");\n",
    "ax.set_title(\"MKDA p-value distributions\");"
   ]
  },
  {
   "cell_type": "code",
   "execution_count": 18,
   "id": "clean-marathon",
   "metadata": {
    "execution": {
     "iopub.execute_input": "2021-04-02T10:17:28.445475Z",
     "iopub.status.busy": "2021-04-02T10:17:28.444981Z",
     "iopub.status.idle": "2021-04-02T10:17:29.383421Z",
     "shell.execute_reply": "2021-04-02T10:17:29.383833Z"
    },
    "papermill": {
     "duration": 0.976636,
     "end_time": "2021-04-02T10:17:29.383989",
     "exception": false,
     "start_time": "2021-04-02T10:17:28.407353",
     "status": "completed"
    },
    "tags": []
   },
   "outputs": [
    {
     "data": {
      "image/png": "[encoded data removed]",
      "text/plain": [
       "<Figure size 432x288 with 1 Axes>"
      ]
     },
     "metadata": {
      "needs_background": "light"
     },
     "output_type": "display_data"
    }
   ],
   "source": [
    "fig, ax = plt.subplots()\n",
    "sns.histplot(\n",
    "    data=long_df.query(\"meta == 'kda' & null_method == 'analytic'\"),\n",
    "    x=\"p_array\",\n",
    "    bins=20,\n",
    "    ax=ax,\n",
    "    color=sns.color_palette(\"muted\")[0],\n",
    "    stat=\"probability\",\n",
    ")\n",
    "sns.histplot(\n",
    "    data=long_df.query(\"meta == 'kda' and null_method == 'empirical'\"),\n",
    "    x=\"p_array\",\n",
    "    bins=20,\n",
    "    ax=ax,\n",
    "    color=sns.color_palette(\"muted\")[1],\n",
    "    stat=\"probability\",\n",
    ")\n",
    "ax.legend(\n",
    "    handles=[\n",
    "        mpatches.Patch(color=sns.color_palette(\"muted\")[0], label=\"analytic\"),\n",
    "        mpatches.Patch(color=sns.color_palette(\"muted\")[1], label=\"empirical\"),\n",
    "    ]\n",
    ");\n",
    "ax.set_title(\"KDA p-value distributions\");"
   ]
  },
  {
   "cell_type": "code",
   "execution_count": 19,
   "id": "developing-surge",
   "metadata": {
    "execution": {
     "iopub.execute_input": "2021-04-02T10:17:29.423179Z",
     "iopub.status.busy": "2021-04-02T10:17:29.422717Z",
     "iopub.status.idle": "2021-04-02T10:17:30.752822Z",
     "shell.execute_reply": "2021-04-02T10:17:30.753202Z"
    },
    "papermill": {
     "duration": 1.351861,
     "end_time": "2021-04-02T10:17:30.753371",
     "exception": false,
     "start_time": "2021-04-02T10:17:29.401510",
     "status": "completed"
    },
    "tags": []
   },
   "outputs": [
    {
     "data": {
      "text/plain": [
       "Text(0.5, 1.0, 'ALE Empirical/Analytic Correlation')"
      ]
     },
     "execution_count": 19,
     "metadata": {},
     "output_type": "execute_result"
    },
    {
     "data": {
      "image/png": "[encoded data removed]",
      "text/plain": [
       "<Figure size 360x360 with 1 Axes>"
      ]
     },
     "metadata": {
      "needs_background": "light"
     },
     "output_type": "display_data"
    }
   ],
   "source": [
    "g = sns.displot(\n",
    "    kind=\"hist\",\n",
    "    bins=100,\n",
    "    x=long_df.query(\"meta == 'ale' & null_method == 'analytic'\")['p_array'].values,\n",
    "    y=long_df.query(\"meta == 'ale' & null_method == 'empirical'\")[\"p_array\"].values,\n",
    "    rug=False,\n",
    ")\n",
    "g.axes[0][0].set_xlabel(\"Analytic\");\n",
    "g.axes[0][0].set_ylabel(\"Empirical\");\n",
    "g.axes[0][0].set_title(\"ALE Empirical/Analytic Correlation\")"
   ]
  },
  {
   "cell_type": "code",
   "execution_count": 20,
   "id": "higher-circulation",
   "metadata": {
    "execution": {
     "iopub.execute_input": "2021-04-02T10:17:30.794272Z",
     "iopub.status.busy": "2021-04-02T10:17:30.793809Z",
     "iopub.status.idle": "2021-04-02T10:17:31.925736Z",
     "shell.execute_reply": "2021-04-02T10:17:31.926115Z"
    },
    "papermill": {
     "duration": 1.153897,
     "end_time": "2021-04-02T10:17:31.926285",
     "exception": false,
     "start_time": "2021-04-02T10:17:30.772388",
     "status": "completed"
    },
    "tags": []
   },
   "outputs": [
    {
     "data": {
      "text/plain": [
       "Text(0.5, 1.0, 'MKDA Empirical/Analytic Correlation')"
      ]
     },
     "execution_count": 20,
     "metadata": {},
     "output_type": "execute_result"
    },
    {
     "data": {
      "image/png": "[encoded data removed]",
      "text/plain": [
       "<Figure size 360x360 with 1 Axes>"
      ]
     },
     "metadata": {
      "needs_background": "light"
     },
     "output_type": "display_data"
    }
   ],
   "source": [
    "g = sns.displot(\n",
    "    kind=\"hist\",\n",
    "    bins=100,\n",
    "    x=long_df.query(\"meta == 'mkda' & null_method == 'analytic'\")['p_array'].values,\n",
    "    y=long_df.query(\"meta == 'mkda' & null_method == 'empirical'\")[\"p_array\"].values,\n",
    "    rug=False,\n",
    ")\n",
    "g.axes[0][0].set_xlabel(\"Analytic\");\n",
    "g.axes[0][0].set_ylabel(\"Empirical\");\n",
    "g.axes[0][0].set_title(\"MKDA Empirical/Analytic Correlation\")"
   ]
  },
  {
   "cell_type": "code",
   "execution_count": 21,
   "id": "occupational-possession",
   "metadata": {
    "execution": {
     "iopub.execute_input": "2021-04-02T10:17:32.120710Z",
     "iopub.status.busy": "2021-04-02T10:17:32.120181Z",
     "iopub.status.idle": "2021-04-02T10:17:33.250750Z",
     "shell.execute_reply": "2021-04-02T10:17:33.250317Z"
    },
    "papermill": {
     "duration": 1.195211,
     "end_time": "2021-04-02T10:17:33.250883",
     "exception": false,
     "start_time": "2021-04-02T10:17:32.055672",
     "status": "completed"
    },
    "tags": []
   },
   "outputs": [
    {
     "data": {
      "text/plain": [
       "Text(0.5, 1.0, 'KDA Empirical/Analytic Correlation')"
      ]
     },
     "execution_count": 21,
     "metadata": {},
     "output_type": "execute_result"
    },
    {
     "data": {
      "image/png": "[encoded data removed]",
      "text/plain": [
       "<Figure size 360x360 with 1 Axes>"
      ]
     },
     "metadata": {
      "needs_background": "light"
     },
     "output_type": "display_data"
    }
   ],
   "source": [
    "g = sns.displot(\n",
    "    kind=\"hist\",\n",
    "    bins=100,\n",
    "    x=long_df.query(\"meta == 'kda' & null_method == 'analytic'\")['p_array'].values,\n",
    "    y=long_df.query(\"meta == 'kda' & null_method == 'empirical'\")[\"p_array\"].values,\n",
    "    rug=False,\n",
    ")\n",
    "g.axes[0][0].set_xlabel(\"Analytic\");\n",
    "g.axes[0][0].set_ylabel(\"Empirical\");\n",
    "g.axes[0][0].set_title(\"KDA Empirical/Analytic Correlation\")"
   ]
  }
 ],
 "metadata": {
  "kernelspec": {
   "display_name": "Python 3",
   "language": "python",
   "name": "python3"
  },
  "language_info": {
   "codemirror_mode": {
    "name": "ipython",
    "version": 3
   },
   "file_extension": ".py",
   "mimetype": "text/x-python",
   "name": "python",
   "nbconvert_exporter": "python",
   "pygments_lexer": "ipython3",
   "version": "3.7.10"
  },
  "papermill": {
   "default_parameters": {},
   "duration": 13926.402085,
   "end_time": "2021-04-02T10:17:36.035106",
   "environment_variables": {},
   "exception": null,
   "input_path": "/work/07723/jdk3232/lonestar/68e9fdfb-c16b-4563-a5c7-3d49e8fd3d26/analysis/01-code/01-compare-analytic-and-empirical-null-distributions.ipynb",
   "output_path": "/work/07723/jdk3232/lonestar/68e9fdfb-c16b-4563-a5c7-3d49e8fd3d26/analysis/02-output/01-compare-analytic-and-empirical-null-distributions-output.ipynb",
   "parameters": {
    "DATA_DIR": "/work/07723/jdk3232/lonestar/68e9fdfb-c16b-4563-a5c7-3d49e8fd3d26/analysis/01-code/intermediate_data",
    "DSET_FILE": "/work/07723/jdk3232/lonestar/68e9fdfb-c16b-4563-a5c7-3d49e8fd3d26/analysis/01-code/intermediate_data/test_dsets.pkl",
    "N_DSET": 100,
    "N_ITERS": 10000,
    "N_JOBS": 48,
    "OVERWRITE_DSETS": true
   },
   "start_time": "2021-04-02T06:25:29.633021",
   "version": "2.3.3"
  }
 },
 "nbformat": 4,
 "nbformat_minor": 5
}