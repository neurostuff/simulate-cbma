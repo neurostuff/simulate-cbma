{
 "cells": [
  {
   "cell_type": "code",
   "execution_count": 1,
   "id": "obvious-shareware",
   "metadata": {
    "execution": {
     "iopub.execute_input": "2021-04-02T06:25:27.558890Z",
     "iopub.status.busy": "2021-04-02T06:25:27.558402Z",
     "iopub.status.idle": "2021-04-02T06:25:27.560253Z",
     "shell.execute_reply": "2021-04-02T06:25:27.560708Z"
    },
    "papermill": {
     "duration": 0.019177,
     "end_time": "2021-04-02T06:25:27.560908",
     "exception": false,
     "start_time": "2021-04-02T06:25:27.541731",
     "status": "completed"
    },
    "tags": [
     "parameters"
    ]
   },
   "outputs": [],
   "source": [
    "data_dir = './intermediate_data'\n",
    "overwrite = False"
   ]
  },
  {
   "cell_type": "code",
   "execution_count": 2,
   "id": "wooden-hungarian",
   "metadata": {
    "execution": {
     "iopub.execute_input": "2021-04-02T06:25:27.582756Z",
     "iopub.status.busy": "2021-04-02T06:25:27.582287Z",
     "iopub.status.idle": "2021-04-02T06:25:27.584084Z",
     "shell.execute_reply": "2021-04-02T06:25:27.584482Z"
    },
    "papermill": {
     "duration": 0.013916,
     "end_time": "2021-04-02T06:25:27.584611",
     "exception": false,
     "start_time": "2021-04-02T06:25:27.570695",
     "status": "completed"
    },
    "tags": [
     "injected-parameters"
    ]
   },
   "outputs": [],
   "source": [
    "# Parameters\n",
    "data_dir = \"/work/07723/jdk3232/lonestar/68e9fdfb-c16b-4563-a5c7-3d49e8fd3d26/analysis/01-code/intermediate_data\"\n",
    "overwrite = False\n"
   ]
  },
  {
   "cell_type": "code",
   "execution_count": 3,
   "id": "interesting-procurement",
   "metadata": {
    "execution": {
     "iopub.execute_input": "2021-04-02T06:25:27.606674Z",
     "iopub.status.busy": "2021-04-02T06:25:27.606210Z",
     "iopub.status.idle": "2021-04-02T06:25:28.859200Z",
     "shell.execute_reply": "2021-04-02T06:25:28.859594Z"
    },
    "papermill": {
     "duration": 1.265639,
     "end_time": "2021-04-02T06:25:28.859764",
     "exception": false,
     "start_time": "2021-04-02T06:25:27.594125",
     "status": "completed"
    },
    "tags": []
   },
   "outputs": [],
   "source": [
    "import os\n",
    "import pickle\n",
    "\n",
    "from scipy import stats"
   ]
  },
  {
   "cell_type": "code",
   "execution_count": 4,
   "id": "religious-cheese",
   "metadata": {
    "execution": {
     "iopub.execute_input": "2021-04-02T06:25:28.883585Z",
     "iopub.status.busy": "2021-04-02T06:25:28.883111Z",
     "iopub.status.idle": "2021-04-02T06:25:28.884938Z",
     "shell.execute_reply": "2021-04-02T06:25:28.885329Z"
    },
    "papermill": {
     "duration": 0.015919,
     "end_time": "2021-04-02T06:25:28.885443",
     "exception": false,
     "start_time": "2021-04-02T06:25:28.869524",
     "status": "completed"
    },
    "tags": []
   },
   "outputs": [],
   "source": [
    "# get parameters for experiment generation\n",
    "peaks_per_experiment = stats.exponnorm(6.7540609200317, 2.158865654395452, 1.1158058948483953)\n",
    "participants_per_experiment = stats.skewnorm(7.881356479848355, 4.688142922191945, 13.846879591002242)"
   ]
  },
  {
   "cell_type": "code",
   "execution_count": 5,
   "id": "acceptable-acrylic",
   "metadata": {
    "execution": {
     "iopub.execute_input": "2021-04-02T06:25:28.910902Z",
     "iopub.status.busy": "2021-04-02T06:25:28.910428Z",
     "iopub.status.idle": "2021-04-02T06:25:28.917611Z",
     "shell.execute_reply": "2021-04-02T06:25:28.917998Z"
    },
    "papermill": {
     "duration": 0.022643,
     "end_time": "2021-04-02T06:25:28.918113",
     "exception": false,
     "start_time": "2021-04-02T06:25:28.895470",
     "status": "completed"
    },
    "tags": []
   },
   "outputs": [],
   "source": [
    "# save outputs\n",
    "peaks_path = os.path.join(data_dir, 'peaks_distribution.pkl')\n",
    "participants_path = os.path.join(data_dir, 'participants_distribution.pkl')\n",
    "\n",
    "if not os.path.isfile(peaks_path) or overwrite:\n",
    "    with open(peaks_path, \"wb\") as peak_f:\n",
    "        pickle.dump(peaks_per_experiment, peak_f)\n",
    "\n",
    "if not os.path.isfile(participants_path) or overwrite:\n",
    "    with open(participants_path, \"wb\") as part_f:\n",
    "        pickle.dump(participants_per_experiment, part_f)\n",
    "    "
   ]
  },
  {
   "cell_type": "raw",
   "id": "cultural-alfred",
   "metadata": {
    "papermill": {
     "duration": 0.009663,
     "end_time": "2021-04-02T06:25:28.938135",
     "exception": false,
     "start_time": "2021-04-02T06:25:28.928472",
     "status": "completed"
    },
    "tags": []
   },
   "source": [
    "from functools import partial\n",
    "from sklearn.decomposition import PCA\n",
    "from sklearn.manifold import MDS\n",
    "from sklearn.mixture import GaussianMixture\n",
    "\n",
    "from scipy.spatial.distance import pdist, squareform\n",
    "from scipy.optimize import minimize, curve_fit\n",
    "from scipy import stats\n",
    "\n",
    "from nilearn.datasets import load_mni152_brain_mask\n",
    "from nilearn.plotting import plot_connectome\n",
    "\n",
    "import nibabel as nib\n",
    "\n",
    "from nimare.extract import fetch_neurosynth, download_nidm_pain\n",
    "from nimare.io import convert_neurosynth_to_dataset\n",
    "from nimare.tests.utils import get_test_data_path\n",
    "from nimare.dataset import Dataset\n",
    "\n",
    "import numpy as np\n",
    "import seaborn as sns"
   ]
  },
  {
   "cell_type": "raw",
   "id": "martial-polyester",
   "metadata": {
    "papermill": {
     "duration": 0.009683,
     "end_time": "2021-04-02T06:25:28.957697",
     "exception": false,
     "start_time": "2021-04-02T06:25:28.948014",
     "status": "completed"
    },
    "tags": []
   },
   "source": [
    "fetch_neurosynth(unpack=True, )\n",
    "ns_dset = convert_neurosynth_to_dataset(\"database.txt\", \"features.txt\")"
   ]
  },
  {
   "cell_type": "raw",
   "id": "addressed-defensive",
   "metadata": {
    "papermill": {
     "duration": 0.011429,
     "end_time": "2021-04-02T06:25:28.978349",
     "exception": false,
     "start_time": "2021-04-02T06:25:28.966920",
     "status": "completed"
    },
    "tags": []
   },
   "source": [
    "ns_dset"
   ]
  },
  {
   "cell_type": "raw",
   "id": "available-facility",
   "metadata": {
    "papermill": {
     "duration": 0.009484,
     "end_time": "2021-04-02T06:25:28.998599",
     "exception": false,
     "start_time": "2021-04-02T06:25:28.989115",
     "status": "completed"
    },
    "tags": []
   },
   "source": [
    "dset_file = os.path.join(get_test_data_path(), \"nidm_pain_dset.json\")\n",
    "dset = Dataset(dset_file)"
   ]
  },
  {
   "cell_type": "raw",
   "id": "selective-mauritius",
   "metadata": {
    "papermill": {
     "duration": 0.009262,
     "end_time": "2021-04-02T06:25:29.017395",
     "exception": false,
     "start_time": "2021-04-02T06:25:29.008133",
     "status": "completed"
    },
    "tags": []
   },
   "source": [
    "distances = np.hstack(ns_dset.coordinates.groupby('id').apply(lambda x: pdist(x[['i', 'j', 'k']])).values)\n",
    "center_of_masses = ns_dset.coordinates.groupby('id')[[\"i\", \"j\", \"k\"]].mean()\n",
    "variances = ns_dset.coordinates.groupby('id')[[\"i\", \"j\", \"k\"]].var()"
   ]
  },
  {
   "cell_type": "raw",
   "id": "revised-reflection",
   "metadata": {
    "papermill": {
     "duration": 0.010197,
     "end_time": "2021-04-02T06:25:29.037523",
     "exception": false,
     "start_time": "2021-04-02T06:25:29.027326",
     "status": "completed"
    },
    "tags": []
   },
   "source": [
    "# distribution of center of masses\n",
    "sns.histplot(center_of_masses)"
   ]
  },
  {
   "cell_type": "raw",
   "id": "professional-lottery",
   "metadata": {
    "papermill": {
     "duration": 0.009345,
     "end_time": "2021-04-02T06:25:29.057041",
     "exception": false,
     "start_time": "2021-04-02T06:25:29.047696",
     "status": "completed"
    },
    "tags": []
   },
   "source": [
    "com_mean = np.mean(center_of_masses, axis=0)\n",
    "com_cov = np.cov(center_of_masses, rowvar=0)\n",
    "center_of_mass_distribution = stats.multivariate_normal(mean=com_mean, cov=com_cov)\n",
    "sim_center_of_mass = center_of_mass_distribution.rvs()"
   ]
  },
  {
   "cell_type": "raw",
   "id": "packed-improvement",
   "metadata": {
    "papermill": {
     "duration": 0.009485,
     "end_time": "2021-04-02T06:25:29.076743",
     "exception": false,
     "start_time": "2021-04-02T06:25:29.067258",
     "status": "completed"
    },
    "tags": []
   },
   "source": [
    "# spatial distribution of coordinates\n",
    "sns.histplot(distances[distances != 0])\n",
    "USE_KDE = False"
   ]
  },
  {
   "cell_type": "raw",
   "id": "other-bride",
   "metadata": {
    "papermill": {
     "duration": 0.010177,
     "end_time": "2021-04-02T06:25:29.096242",
     "exception": false,
     "start_time": "2021-04-02T06:25:29.086065",
     "status": "completed"
    },
    "tags": []
   },
   "source": [
    "# mixture model\n",
    "gm = GaussianMixture(n_components=2)\n",
    "gm.fit(np.atleast_2d(distances).T)\n",
    "\n",
    "def simulate_distances(n_foci, distribution):\n",
    "    # number of unique elements in distance matrix\n",
    "    size = (n_foci * (n_foci - 1)) // 2\n",
    "    return abs(distribution.sample(n_samples=size)[0].flatten())\n",
    "\n",
    "simulate_distances_gm = partial(simulate_distances, distribution=gm)\n",
    "\n",
    "# kernel density\n",
    "kde = stats.gaussian_kde(distances)\n",
    "\n",
    "def simulate_distances2(n_foci, distribution):\n",
    "    # number of unique elements in distance matrix\n",
    "    size = (n_foci * (n_foci - 1)) // 2\n",
    "    return abs(distribution.resample(size=size))[0]\n",
    "\n",
    "simulate_distances_kde = partial(simulate_distances2, distribution=kde)"
   ]
  },
  {
   "cell_type": "raw",
   "id": "compressed-township",
   "metadata": {
    "papermill": {
     "duration": 0.009346,
     "end_time": "2021-04-02T06:25:29.116231",
     "exception": false,
     "start_time": "2021-04-02T06:25:29.106885",
     "status": "completed"
    },
    "tags": []
   },
   "source": [
    "if USE_KDE:\n",
    "    sim_distances = simulate_distances_kde(n_foci=30)\n",
    "else:\n",
    "    sim_distances = simulate_distances_gm(n_foci=30)\n",
    "sns.histplot(sim_distances)"
   ]
  },
  {
   "cell_type": "raw",
   "id": "parallel-north",
   "metadata": {
    "papermill": {
     "duration": 0.01031,
     "end_time": "2021-04-02T06:25:29.136199",
     "exception": false,
     "start_time": "2021-04-02T06:25:29.125889",
     "status": "completed"
    },
    "tags": []
   },
   "source": [
    "# first approximation of coordinates with multi dimensional scaling\n",
    "mds = MDS(n_components=3, dissimilarity=\"precomputed\", n_jobs=1)\n",
    "init_coords = mds.fit_transform(squareform(sim_distances))\n",
    "# evaluate distance distribution\n",
    "sns.histplot(pdist(init_coords))"
   ]
  },
  {
   "cell_type": "raw",
   "id": "empty-posting",
   "metadata": {
    "papermill": {
     "duration": 0.009366,
     "end_time": "2021-04-02T06:25:29.155253",
     "exception": false,
     "start_time": "2021-04-02T06:25:29.145887",
     "status": "completed"
    },
    "tags": []
   },
   "source": [
    "# optimize coords to look like modeled spatial distribution\n",
    "def calc_aic(coords, gm):\n",
    "    n_coords = coords.shape[0] // 3\n",
    "    return gm.aic(np.atleast_2d(pdist(coords.reshape(n_coords, 3))).T)\n",
    "\n",
    "min_aic = partial(calc_aic, gm=gm)\n",
    "\n",
    "\n",
    "# kde_version\n",
    "def calc_overlap(coords, dist):\n",
    "    num_coords = coords.shape[0] // 3\n",
    "    kde = stats.gaussian_kde(pdist(coords.reshape(num_coords, 3)))\n",
    "    return 1 / dist.integrate_kde(kde)\n",
    "\n",
    "kde_overlap = partial(calc_overlap, dist=kde)\n",
    "\n",
    "if USE_KDE:\n",
    "    tmp_coords = minimize(\n",
    "        kde_overlap,\n",
    "        init_coords.flatten(),\n",
    "        method='BFGS',\n",
    "        options={'maxiter': 1000, 'eps': 1e-04, 'gtol': 1e-02},\n",
    "        tol=1e-2,\n",
    "        ).x\n",
    "else:\n",
    "    tmp_coords = minimize(\n",
    "    min_aic,\n",
    "    init_coords.flatten(),\n",
    "    method='BFGS',\n",
    "    options={'maxiter': 1000, 'eps': 1e-04, 'gtol': 1e-02},\n",
    "    tol=1e-2,\n",
    "    ).x\n",
    "\n",
    "sim_coords = tmp_coords.reshape(tmp_coords.shape[0] // 3, 3)"
   ]
  },
  {
   "cell_type": "raw",
   "id": "optimum-surfing",
   "metadata": {
    "papermill": {
     "duration": 0.009112,
     "end_time": "2021-04-02T06:25:29.173906",
     "exception": false,
     "start_time": "2021-04-02T06:25:29.164794",
     "status": "completed"
    },
    "tags": []
   },
   "source": [
    "# eh, with better mixture model this should work better\n",
    "sns.histplot(pdist(sim_coords))"
   ]
  },
  {
   "cell_type": "raw",
   "id": "extra-hearts",
   "metadata": {
    "papermill": {
     "duration": 0.009192,
     "end_time": "2021-04-02T06:25:29.192687",
     "exception": false,
     "start_time": "2021-04-02T06:25:29.183495",
     "status": "completed"
    },
    "tags": []
   },
   "source": [
    "mask = load_mni152_brain_mask()\n",
    "possible_ijks = np.argwhere(mask.get_fdata())"
   ]
  },
  {
   "cell_type": "raw",
   "id": "coral-desert",
   "metadata": {
    "papermill": {
     "duration": 0.009559,
     "end_time": "2021-04-02T06:25:29.212346",
     "exception": false,
     "start_time": "2021-04-02T06:25:29.202787",
     "status": "completed"
    },
    "tags": []
   },
   "source": [
    "# rotate coordinates from mask and simulated coordinates so they are likely to align\n",
    "# then nudge coordinates to a simulated center of mass\n",
    "sim_pca = PCA(svd_solver='full')\n",
    "temp_pca = PCA(svd_solver='full')\n",
    "trans_sim_coords = sim_pca.fit_transform(sim_coords)\n",
    "temp_pca.fit(possible_ijks)\n",
    "centered_sim_coords = temp_pca.inverse_transform(trans_sim_coords)\n",
    "center_diff = centered_sim_coords.mean(axis=0) - sim_center_of_mass\n",
    "centered_sim_coords -= center_diff"
   ]
  },
  {
   "cell_type": "raw",
   "id": "local-front",
   "metadata": {
    "papermill": {
     "duration": 0.009437,
     "end_time": "2021-04-02T06:25:29.232279",
     "exception": false,
     "start_time": "2021-04-02T06:25:29.222842",
     "status": "completed"
    },
    "tags": []
   },
   "source": [
    "# check that the centered simulated coords are all in the mask\n",
    "centered_sim_coords = centered_sim_coords.astype(int)\n",
    "all([ijk in possible_ijks for ijk in centered_sim_coords])"
   ]
  },
  {
   "cell_type": "raw",
   "id": "nonprofit-decline",
   "metadata": {
    "papermill": {
     "duration": 0.010868,
     "end_time": "2021-04-02T06:25:29.252448",
     "exception": false,
     "start_time": "2021-04-02T06:25:29.241580",
     "status": "completed"
    },
    "tags": []
   },
   "source": [
    "# plot the simulated coordinates\n",
    "xyz = nib.affines.apply_affine(mask.affine, centered_sim_coords)\n",
    "plot_connectome(np.eye(xyz.shape[0]), node_coords=xyz)"
   ]
  },
  {
   "cell_type": "raw",
   "id": "choice-chassis",
   "metadata": {
    "papermill": {
     "duration": 0.008963,
     "end_time": "2021-04-02T06:25:29.271414",
     "exception": false,
     "start_time": "2021-04-02T06:25:29.262451",
     "status": "completed"
    },
    "tags": []
   },
   "source": []
  }
 ],
 "metadata": {
  "kernelspec": {
   "display_name": "Python 3",
   "language": "python",
   "name": "python3"
  },
  "language_info": {
   "codemirror_mode": {
    "name": "ipython",
    "version": 3
   },
   "file_extension": ".py",
   "mimetype": "text/x-python",
   "name": "python",
   "nbconvert_exporter": "python",
   "pygments_lexer": "ipython3",
   "version": "3.7.10"
  },
  "papermill": {
   "default_parameters": {},
   "duration": 3.478824,
   "end_time": "2021-04-02T06:25:29.586960",
   "environment_variables": {},
   "exception": null,
   "input_path": "/work/07723/jdk3232/lonestar/68e9fdfb-c16b-4563-a5c7-3d49e8fd3d26/analysis/01-code/00-derive-simulation-distributions.ipynb",
   "output_path": "/work/07723/jdk3232/lonestar/68e9fdfb-c16b-4563-a5c7-3d49e8fd3d26/analysis/02-output/00-derive-simulation-distributions-output.ipynb",
   "parameters": {
    "data_dir": "/work/07723/jdk3232/lonestar/68e9fdfb-c16b-4563-a5c7-3d49e8fd3d26/analysis/01-code/intermediate_data",
    "overwrite": false
   },
   "start_time": "2021-04-02T06:25:26.108136",
   "version": "2.3.3"
  }
 },
 "nbformat": 4,
 "nbformat_minor": 5
}